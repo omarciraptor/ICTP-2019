{
 "cells": [
  {
   "cell_type": "markdown",
   "metadata": {},
   "source": [
    "<CENTER>\n",
    "    <a href=\"http://opendata.atlas.cern\" class=\"icons\"><img src=\"../Assets/ATLASOD.gif\" style=\"width:50%\"></a>\n",
    "</CENTER>"
   ]
  },
  {
   "cell_type": "markdown",
   "metadata": {},
   "source": [
    "<CENTER><h1>Simple CVS to ROOT C++ notebook example</h1></CENTER>"
   ]
  },
  {
   "cell_type": "code",
   "execution_count": 1,
   "metadata": {
    "collapsed": true
   },
   "outputs": [],
   "source": [
    "//%jsroot on"
   ]
  },
  {
   "cell_type": "code",
   "execution_count": 2,
   "metadata": {
    "collapsed": true
   },
   "outputs": [],
   "source": [
    "#include \"Riostream.h\"\n",
    "#include \"TString.h\"\n",
    "#include \"TFile.h\"\n",
    "#include \"TTree.h\"\n",
    "#include \"TSystem.h\"\n",
    "#include <stdio.h>\n",
    "#include <stdlib.h>"
   ]
  },
  {
   "cell_type": "code",
   "execution_count": 3,
   "metadata": {
    "collapsed": true
   },
   "outputs": [],
   "source": [
    "TChain *dataset = new TChain(\"ntuple\");"
   ]
  },
  {
   "cell_type": "code",
   "execution_count": 4,
   "metadata": {
    "collapsed": false
   },
   "outputs": [],
   "source": [
    "dataset->Add(\"/home/student/ProyectoCevale/ICTP-2019/notebooks/analysis-examples/outreach.root\");"
   ]
  },
  {
   "cell_type": "code",
   "execution_count": 5,
   "metadata": {
    "collapsed": true
   },
   "outputs": [],
   "source": [
    "TFile *_file0 = TFile::Open(\"outreach.root\");"
   ]
  },
  {
   "cell_type": "code",
   "execution_count": 6,
   "metadata": {
    "collapsed": true
   },
   "outputs": [],
   "source": [
    "Int_t   NJets,\n",
    "        Channel;\n",
    "\n",
    "Float_t MET,\n",
    "        Mll,\n",
    "        LepDeltaPhi,\n",
    "        METLLdelthaPhi,\n",
    "        SumLepPt,\n",
    "        BTags;"
   ]
  },
  {
   "cell_type": "code",
   "execution_count": 7,
   "metadata": {
    "collapsed": false
   },
   "outputs": [],
   "source": [
    "dataset->SetBranchAddress(\"Channel\",      &Channel);\n",
    "dataset->SetBranchAddress(\"NJets\", &NJets);\n",
    "dataset->SetBranchAddress(\"MET\",   &MET);\n",
    "dataset->SetBranchAddress(\"Mll\",     &Mll);\n",
    "dataset->SetBranchAddress(\"LepDeltaPhi\",    &LepDeltaPhi);\n",
    "dataset->SetBranchAddress(\"SumLepPt\",    &SumLepPt);\n",
    "dataset->SetBranchAddress(\"BTags\",    &BTags);\n",
    "dataset->SetBranchAddress(\"METLLdelthaPhi\",    &METLLdelthaPhi);"
   ]
  },
  {
   "cell_type": "markdown",
   "metadata": {},
   "source": [
    "Crear un canvas y un histograma."
   ]
  },
  {
   "cell_type": "code",
   "execution_count": 8,
   "metadata": {
    "collapsed": true
   },
   "outputs": [],
   "source": [
    "TCanvas *canvas = new TCanvas(\"Canvas\",\"a first way to plot a variable\",800,600);"
   ]
  },
  {
   "cell_type": "code",
   "execution_count": 9,
   "metadata": {
    "collapsed": true
   },
   "outputs": [],
   "source": [
    "TH1F *hist = new TH1F(\"Number of Jets\",\"Example plot: Number of Jets\",4,0,4);\n",
    "hist->SetFillColor(kBlue);"
   ]
  },
  {
   "cell_type": "markdown",
   "metadata": {},
   "source": [
    "Llenar el histograma."
   ]
  },
  {
   "cell_type": "code",
   "execution_count": 10,
   "metadata": {
    "collapsed": false
   },
   "outputs": [
    {
     "name": "stdout",
     "output_type": "stream",
     "text": [
      "Done!\r\n"
     ]
    },
    {
     "name": "stderr",
     "output_type": "stream",
     "text": [
      "Error in <TTree::SetBranchStatus>: unknown branch -> METLLdelthaPhi\r\n"
     ]
    }
   ],
   "source": [
    "int nentries, nbytes, i;\n",
    "nentries = (Int_t)ntuple->GetEntries();\n",
    "\n",
    "for (i = 0; i < nentries; i++)\n",
    "{\n",
    "    nbytes = ntuple->GetEntry(i);\n",
    "    hist->Fill(NJets);\n",
    "}\n",
    "\n",
    "std::cout << \"Done!\" << std::endl;"
   ]
  },
  {
   "cell_type": "code",
   "execution_count": 11,
   "metadata": {
    "collapsed": false
   },
   "outputs": [
    {
     "data": {
      "image/png": "[encoded data removed]",
      "text/plain": [
       "<IPython.core.display.Image object>"
      ]
     },
     "metadata": {},
     "output_type": "display_data"
    }
   ],
   "source": [
    "hist->Draw();\n",
    "canvas->Draw();"
   ]
  },
  {
   "cell_type": "code",
   "execution_count": 12,
   "metadata": {
    "collapsed": false
   },
   "outputs": [],
   "source": [
    "TCanvas *canvas1 = new TCanvas(\"Canvas1\",\"a first way to plot a variable\",800,600);\n",
    "TH1F *hist1 = new TH1F(\"Channel\",\"Channel\",4,0,4);\n",
    "hist1->SetFillColor(kBlue);"
   ]
  },
  {
   "cell_type": "code",
   "execution_count": 13,
   "metadata": {
    "collapsed": false
   },
   "outputs": [
    {
     "name": "stdout",
     "output_type": "stream",
     "text": [
      "Done!\r\n"
     ]
    }
   ],
   "source": [
    "int nentries1, nbytes1, j;\n",
    "nentries1 = (Int_t)ntuple->GetEntries();\n",
    "\n",
    "for (j = 0; j < nentries1; j++)\n",
    "{\n",
    "    nbytes1 = ntuple->GetEntry(j);\n",
    "    \n",
    "    hist1->Fill(Channel);\n",
    "}\n",
    "\n",
    "\n",
    "std::cout << \"Done!\" << std::endl;"
   ]
  },
  {
   "cell_type": "code",
   "execution_count": 14,
   "metadata": {
    "collapsed": false
   },
   "outputs": [
    {
     "data": {
      "image/png": "[encoded data removed]",
      "text/plain": [
       "<IPython.core.display.Image object>"
      ]
     },
     "metadata": {},
     "output_type": "display_data"
    }
   ],
   "source": [
    "hist1->Draw();\n",
    "canvas1->Draw();"
   ]
  },
  {
   "cell_type": "code",
   "execution_count": 15,
   "metadata": {
    "collapsed": false
   },
   "outputs": [],
   "source": [
    "TCanvas *canvas2 = new TCanvas(\"Canvas2\",\"a first way to plot a variable\",800,600);\n",
    "TH1F *hist2 = new TH1F(\"Reconstructed Dilepton Mass\",\"Reconstructed Dilepton Mass\",1,0,100);\n",
    "hist2->SetFillColor(kBlue);"
   ]
  },
  {
   "cell_type": "code",
   "execution_count": 16,
   "metadata": {
    "collapsed": false
   },
   "outputs": [
    {
     "name": "stdout",
     "output_type": "stream",
     "text": [
      "Done!\r\n"
     ]
    }
   ],
   "source": [
    "int nentries2, nbytes2, k;\n",
    "nentries2 = (Int_t)ntuple->GetEntries();\n",
    "\n",
    "for (k = 0; k < nentries2; k++)\n",
    "{\n",
    "    nbytes2 = ntuple->GetEntry(k);\n",
    "    \n",
    "    hist2->Fill(SumLepPt);\n",
    "}\n",
    "\n",
    "\n",
    "std::cout << \"Done!\" << std::endl;"
   ]
  },
  {
   "cell_type": "code",
   "execution_count": 17,
   "metadata": {
    "collapsed": false
   },
   "outputs": [
    {
     "data": {
      "image/png": "[encoded data removed]",
      "text/plain": [
       "<IPython.core.display.Image object>"
      ]
     },
     "metadata": {},
     "output_type": "display_data"
    }
   ],
   "source": [
    "hist2->Draw();\n",
    "canvas2->Draw();"
   ]
  },
  {
   "cell_type": "code",
   "execution_count": 18,
   "metadata": {
    "collapsed": true
   },
   "outputs": [],
   "source": [
    "TCanvas *canvas3 = new TCanvas(\"Canvas3\",\"a first way to plot a variable\",800,600);\n",
    "TH1F *hist3 = new TH1F(\"Jets b-tagged\",\"Jets b-tagged\",4,0,4);\n",
    "hist3->SetFillColor(kBlue);"
   ]
  },
  {
   "cell_type": "code",
   "execution_count": 19,
   "metadata": {
    "collapsed": false
   },
   "outputs": [
    {
     "name": "stdout",
     "output_type": "stream",
     "text": [
      "Done!\r\n"
     ]
    }
   ],
   "source": [
    "int nentries3, nbytes3, l;\n",
    "nentries3 = (Int_t)ntuple->GetEntries();\n",
    "\n",
    "for (l = 0; l < nentries3; l++)\n",
    "{\n",
    "    nbytes3 = ntuple->GetEntry(l);\n",
    "    \n",
    "    hist3->Fill(BTags);\n",
    "}\n",
    "\n",
    "\n",
    "std::cout << \"Done!\" << std::endl;"
   ]
  },
  {
   "cell_type": "code",
   "execution_count": 20,
   "metadata": {
    "collapsed": false
   },
   "outputs": [
    {
     "data": {
      "image/png": "[encoded data removed]",
      "text/plain": [
       "<IPython.core.display.Image object>"
      ]
     },
     "metadata": {},
     "output_type": "display_data"
    }
   ],
   "source": [
    "hist3->Draw();\n",
    "canvas3->Draw();"
   ]
  }
 ],
 "metadata": {
  "kernelspec": {
   "display_name": "ROOT Prompt",
   "language": "c++",
   "name": "root"
  },
  "language_info": {
   "codemirror_mode": {
    "name": "ipython",
    "version": 2
   },
   "file_extension": ".py",
   "mimetype": "text/x-python",
   "name": "python",
   "nbconvert_exporter": "python",
   "pygments_lexer": "ipython2",
   "version": "2.7.9"
  }
 },
 "nbformat": 4,
 "nbformat_minor": 1
}
